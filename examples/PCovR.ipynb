{
 "cells": [
  {
   "cell_type": "code",
   "execution_count": null,
   "metadata": {},
   "outputs": [],
   "source": [
    "from sklearn.datasets import load_boston\n",
    "\n",
    "from matplotlib import pyplot as plt\n",
    "from matplotlib import cm\n",
    "from tqdm.notebook import tqdm\n",
    "\n",
    "import numpy as np\n",
    "\n",
    "from skcosmo.decomposition import PCovR\n",
    "from skcosmo.preprocessing import StandardFlexibleScaler as sfs\n",
    "\n",
    "cmapX = cm.plasma\n",
    "cmapY = cm.Greys"
   ]
  },
  {
   "cell_type": "markdown",
   "metadata": {},
   "source": [
    "For this, we will use the boston housing data provided by scikit-learn."
   ]
  },
  {
   "cell_type": "code",
   "execution_count": null,
   "metadata": {},
   "outputs": [],
   "source": [
    "X, Y = load_boston(return_X_y=True)\n",
    "Y = Y.reshape(X.shape[0], -1)\n",
    "\n",
    "X_scaler = sfs(with_mean=True, with_std=True, column_wise=False)\n",
    "X = X_scaler.fit_transform(X)\n",
    "\n",
    "Y_scaler = sfs(with_mean=True, with_std=True, column_wise=True)\n",
    "Y = Y_scaler.fit_transform(Y)"
   ]
  },
  {
   "cell_type": "markdown",
   "metadata": {},
   "source": [
    "#### Computing a Simple PCovR"
   ]
  },
  {
   "cell_type": "code",
   "execution_count": null,
   "metadata": {},
   "outputs": [],
   "source": [
    "mixing = 0.5\n",
    "pcovr = PCovR(mixing=mixing, \n",
    "              alpha=1E-8,\n",
    "              n_components=2, )\n",
    "pcovr.fit(X, Y)\n",
    "T = pcovr.transform(X)\n",
    "Yp = pcovr.predict(X)"
   ]
  },
  {
   "cell_type": "markdown",
   "metadata": {},
   "source": [
    "#### A Fancy Plot of the PCovR Results"
   ]
  },
  {
   "cell_type": "code",
   "execution_count": null,
   "metadata": {},
   "outputs": [],
   "source": [
    "fig, axes = plt.subplots(2, 2, \n",
    "                         figsize=(8, 5),\n",
    "                         gridspec_kw=dict(height_ratios=(1,0.1))\n",
    "                        )\n",
    "\n",
    "scatT = axes[0,0].scatter(T[:, 0], \n",
    "               T[:, 1], \n",
    "               s=50, \n",
    "               alpha=0.8,\n",
    "               c=Y, \n",
    "               cmap=cmapX,  \n",
    "               edgecolor='k'\n",
    "              )\n",
    "axes[0,0].set_xlabel(r\"$PC_1$\")\n",
    "axes[0,0].set_ylabel(r\"$PC_2$\")\n",
    "fig.colorbar(scatT, cax=axes[1,0], \n",
    "             label='Y', orientation='horizontal')\n",
    "\n",
    "scatY = axes[0,1].scatter(Y, \n",
    "               Yp, \n",
    "               s=50, \n",
    "               alpha=0.8,\n",
    "               c=np.abs(Y-Yp), \n",
    "               cmap=cmapY, \n",
    "               edgecolor='k')\n",
    "fig.suptitle(r\"$\\alpha=$\" + str(mixing))\n",
    "axes[0,1].set_xlabel(r\"$Y$\")\n",
    "axes[0,1].set_ylabel(r\"Predicted $Y$\")\n",
    "fig.colorbar(scatY, cax=axes[1,1], \n",
    "             label='Error in Y', orientation='horizontal')\n",
    "\n",
    "fig.tight_layout()"
   ]
  },
  {
   "cell_type": "markdown",
   "metadata": {},
   "source": [
    "#### Surveying Many Mixing Parameters"
   ]
  },
  {
   "cell_type": "code",
   "execution_count": null,
   "metadata": {},
   "outputs": [],
   "source": [
    "n_alpha = 5\n",
    "\n",
    "fig, axes = plt.subplots(2, n_alpha, \n",
    "                         figsize=(4*n_alpha, 10),\n",
    "                         sharey='row'\n",
    "                        )\n",
    "\n",
    "for i, mixing in enumerate(np.linspace(0, 1, n_alpha)):\n",
    "    \n",
    "\n",
    "    pcovr = PCovR(mixing=mixing, \n",
    "                      alpha=1E-8,\n",
    "                      n_components=2, )\n",
    "    pcovr.fit(X, Y)\n",
    "    T = pcovr.transform(X)\n",
    "    Yp = pcovr.predict(X)\n",
    "\n",
    "    axes[0, i].scatter(T[:, 0], \n",
    "                       T[:, 1], \n",
    "                       s=50, \n",
    "                       alpha=0.8,\n",
    "                       c=Y, \n",
    "                       cmap=cmapX,  \n",
    "                       edgecolor='k'\n",
    "                      )\n",
    "    axes[0,i].set_title(r\"$\\alpha=$\" + str(mixing))\n",
    "    axes[0,i].set_xlabel(r\"$PC_1$\")\n",
    "    axes[0,i].set_xticks([])\n",
    "    axes[0,i].set_yticks([])\n",
    "\n",
    "    axes[1, i].scatter(Y, \n",
    "                       Yp, \n",
    "                       s=50, \n",
    "                       alpha=0.8,\n",
    "                       c=np.abs(Y-Yp), \n",
    "                       cmap=cmapY, \n",
    "                       edgecolor='k')\n",
    "    axes[1,i].set_title(r\"$\\alpha=$\" + str(mixing))\n",
    "    axes[1,i].set_xlabel(\"Y\")\n",
    "    \n",
    "axes[0,0].set_ylabel(r\"$PC_2$\")\n",
    "axes[1,0].set_ylabel(\"Predicted Y\")\n",
    "\n",
    "fig.subplots_adjust(wspace=0, hspace=0.25)\n",
    "plt.show()"
   ]
  },
  {
   "cell_type": "code",
   "execution_count": null,
   "metadata": {},
   "outputs": [],
   "source": []
  }
 ],
 "metadata": {
  "kernelspec": {
   "display_name": "Python 3",
   "language": "python",
   "name": "python3"
  },
  "language_info": {
   "codemirror_mode": {
    "name": "ipython",
    "version": 3
   },
   "file_extension": ".py",
   "mimetype": "text/x-python",
   "name": "python",
   "nbconvert_exporter": "python",
   "pygments_lexer": "ipython3",
   "version": "3.6.11"
  },
  "toc": {
   "base_numbering": 1,
   "nav_menu": {},
   "number_sections": true,
   "sideBar": true,
   "skip_h1_title": false,
   "title_cell": "Table of Contents",
   "title_sidebar": "Contents",
   "toc_cell": false,
   "toc_position": {},
   "toc_section_display": true,
   "toc_window_display": false
  }
 },
 "nbformat": 4,
 "nbformat_minor": 4
}
